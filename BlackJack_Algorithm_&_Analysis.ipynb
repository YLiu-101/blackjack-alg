{
  "cells": [
    {
      "cell_type": "code",
      "execution_count": 1,
      "metadata": {
        "id": "yUjm4iTQLxIm"
      },
      "outputs": [],
      "source": [
        "import numpy as np\n",
        "import pandas as pd\n",
        "import matplotlib.pyplot as plt\n",
        "import sklearn\n",
        "import random\n",
        "import copy\n"
      ]
    },
    {
      "cell_type": "markdown",
      "metadata": {
        "id": "yotAFf5wt8Ys"
      },
      "source": [
        "## Solo Blackjack Gameplay\n",
        "\n",
        "Here, we'll implement the most basic form of blackjack:\n",
        "\n",
        "\n",
        "1.   The player starts off with a stack of 1000\n",
        "2.   Blackjack pays 3 to 2\n",
        "3.   A bet of 0 or less terminates the program, displaying the player's stack over time on a chart\n",
        "3.   Deck is reshuffled after a certain number of cards is gone through (these are customizable in the program)\n",
        "\n"
      ]
    },
    {
      "cell_type": "code",
      "execution_count": 14,
      "metadata": {
        "id": "rGPaH5exMbVt"
      },
      "outputs": [],
      "source": [
        "# Initialize the deck of cards\n",
        "deck_s = [2, 3, 4, 5, 6, 7, 8, 9, 10, 10, 10, 10, 11]\n",
        "deck_h = [2, 3, 4, 5, 6, 7, 8, 9, 10, 10, 10, 10, 11]\n",
        "deck_d = [2, 3, 4, 5, 6, 7, 8, 9, 10, 10, 10, 10, 11]\n",
        "deck_c = [2, 3, 4, 5, 6, 7, 8, 9, 10, 10, 10, 10, 11]\n",
        "deck = []\n",
        "prop_to_shuffle = 0.4\n",
        "cards_used = 0\n",
        "\n",
        "num_decks = 7\n",
        "cards_to_shuffle = 52*prop_to_shuffle*num_decks//1\n",
        "for i in range (num_decks*4):\n",
        "  deck.append(copy.deepcopy(deck_s))\n",
        "new_deck = copy.deepcopy(deck)\n",
        "\n",
        "\n",
        "\n",
        "\n",
        "def debugger():\n",
        "  global cards_used, deck, new_deck\n",
        "  print(cards_used, \"\\n\", deck,\"\\n\", new_deck)\n",
        "\n",
        "# Define the function to deal a card\n",
        "def deal_card():\n",
        "  global cards_used, deck, new_deck\n",
        "  if cards_used >= cards_to_shuffle:\n",
        "    deck = copy.deepcopy(new_deck)\n",
        "    cards_used = 0\n",
        "    # print(\"Deck is shuffled!\")\n",
        "  cards_used += 1\n",
        "  while True:\n",
        "    int1 = random.randint(0,4*num_decks-1)\n",
        "    if len(deck[int1]) > 0:\n",
        "      return deck[int1].pop(random.randint(0,len(deck[int1])-1))\n",
        "\n",
        "# Define the function to calculate the score of a hand\n",
        "def calculate_score(hand):\n",
        "  score = sum(hand)\n",
        "  for i in hand:\n",
        "    if i==11 and score > 21:\n",
        "      score-=10\n",
        "  return score\n",
        "\n",
        "# Define the function to play a game of blackjack\n",
        "def play_blackjack(): #I think I should split this into two functions: one that calculates each round, the other that runs that and manages the stack\n",
        "  player_stack = 1000\n",
        "  bet = 0\n",
        "  stack_amount = []\n",
        "  # Play the player's turn\n",
        "  while True:\n",
        "    stack_amount.append(player_stack)\n",
        "    blackjack = False\n",
        "    dealer_bj = False\n",
        "    player_bust = False\n",
        "    print(\"Your stack: \" + str(player_stack))\n",
        "    while True:\n",
        "      debugger()\n",
        "      print(\"-\"*10)\n",
        "      bet = input(\"How much to bet? \")\n",
        "      if bet.isnumeric():\n",
        "        bet = float(bet)\n",
        "        player_stack -= bet\n",
        "        break\n",
        "      else:\n",
        "          while not bet.isnumeric():\n",
        "            bet = input(\"How much to bet? \")\n",
        "          bet = float(bet)\n",
        "          player_stack -= bet\n",
        "          break\n",
        "    if (bet <= 0):\n",
        "      plt.plot(range(0,len(stack_amount)),stack_amount)\n",
        "      break\n",
        "    player_hand = [deal_card(), deal_card()]\n",
        "    dealer_hand = [deal_card(), deal_card()]\n",
        "    # Print the player's hand and score\n",
        "    print(\"Player's hand:\", player_hand)\n",
        "    print(\"Dealer's hand:\", dealer_hand[0])\n",
        "    print(\"Player's score:\", calculate_score(player_hand))\n",
        "\n",
        "    if sum(player_hand) == 21 and sum(dealer_hand) < 21:\n",
        "      print(\"blackjack!\")\n",
        "      blackjack = True\n",
        "      player_stack += bet * 2.5\n",
        "    elif sum(player_hand) < 21 and sum(dealer_hand) == 21:\n",
        "      print(\"Dealer's blackjack!\")\n",
        "      dealer_bj = True\n",
        "\n",
        "\n",
        "    while not blackjack and not dealer_bj:\n",
        "      # Get the player's input\n",
        "      print(\"Player's hand:\", player_hand)\n",
        "      print(\"Dealer's hand:\", dealer_hand[0])\n",
        "      choice = input(\"Hit or stand? (h/s) \")\n",
        "\n",
        "      # If the player hits, deal them another card\n",
        "      if choice == \"h\":\n",
        "        player_hand.append(deal_card())\n",
        "        print(\"Player's hand:\", player_hand)\n",
        "\n",
        "      # If the player stands, break out of the loop\n",
        "      elif choice == \"s\":\n",
        "        break\n",
        "\n",
        "      # If the player busts, they lose\n",
        "      if calculate_score(player_hand) > 21:\n",
        "        # print(\"Player's hand:\", player_hand)\n",
        "        print(\"Player busts!\")\n",
        "        player_bust = True\n",
        "        break\n",
        "    # Play the dealer's turn\n",
        "    while calculate_score(dealer_hand) < 17 and not player_bust:\n",
        "      dealer_hand.append(deal_card())\n",
        "\n",
        "    # Print the dealer's hand and score\n",
        "    print(\"Dealer's hand:\", dealer_hand)\n",
        "    print(\"Dealer's score:\", calculate_score(dealer_hand))\n",
        "\n",
        "    # Determine the winner\n",
        "    if not (blackjack or dealer_bj or player_bust):\n",
        "      if calculate_score(player_hand) > calculate_score(dealer_hand) and calculate_score(player_hand) <= 21 or calculate_score(dealer_hand)>21:\n",
        "        print(\"Player wins!\")\n",
        "        player_stack+= 2*bet\n",
        "      elif calculate_score(dealer_hand) > calculate_score(player_hand) and calculate_score(dealer_hand) <= 21 or calculate_score(player_hand)>21:\n",
        "        print(\"Dealer wins!\")\n",
        "      else:\n",
        "        print(\"Tie!\")\n",
        "        player_stack+=bet\n",
        "\n",
        "\n",
        "# play_blackjack() "
      ]
    },
    {
      "cell_type": "code",
      "execution_count": 3,
      "metadata": {},
      "outputs": [],
      "source": [
        "def refine_player(): #I think I should split this into two functions: one that calculates each round, the other that runs that and manages the stack\n",
        "  player_stack = 1000\n",
        "  bet = 0\n",
        "  stack_amount = []\n",
        "  # Play the player's turn\n",
        "  while True:\n",
        "    print(\"-\"*10)\n",
        "    stack_amount.append(player_stack)\n",
        "    blackjack = False\n",
        "    dealer_bj = False\n",
        "    player_bust = False\n",
        "    print(\"Bot stack: \" + str(player_stack))\n",
        "\n",
        "    bet = 10 #Might add in some bet variance with the bot in later devs\n",
        "    \n",
        "    player_stack -= bet\n",
        "    player_hand = [deal_card(), deal_card()]\n",
        "    dealer_hand = [deal_card(), deal_card()]\n",
        "    # Print the player's hand and score\n",
        "    print(\"Player's hand:\", player_hand)\n",
        "    print(\"Dealer's :\", dealer_hand[0])\n",
        "    print(\"Player's scorhande:\", calculate_score(player_hand))\n",
        "\n",
        "    if sum(player_hand) == 21 and sum(dealer_hand) < 21:\n",
        "      print(\"blackjack!\")\n",
        "      blackjack = True\n",
        "      player_stack += bet * 2.5\n",
        "    elif sum(player_hand) < 21 and sum(dealer_hand) == 21:\n",
        "      print(\"Dealer's blackjack!\")\n",
        "      dealer_bj = True\n",
        "\n",
        "\n",
        "    while not blackjack and not dealer_bj:\n",
        "      choice = input(\"hit or stand?\")\n",
        "      if choice==\"h\":\n",
        "        choice = True\n",
        "      else:\n",
        "        choice = False\n",
        "\n",
        "      # If the player hits, deal them another card\n",
        "      if choice:\n",
        "        player_hand.append(deal_card())\n",
        "        print(\"Player's hand:\", player_hand)\n",
        "\n",
        "      # If the player stands, break out of the loop\n",
        "      else:\n",
        "        break\n",
        "\n",
        "      # If the player busts, they lose\n",
        "      if calculate_score(player_hand) > 21:\n",
        "        # print(\"Player's hand:\", player_hand)\n",
        "        print(\"Player busts!\")\n",
        "        player_bust = True\n",
        "        break\n",
        "    # Play the dealer's turn\n",
        "    while calculate_score(dealer_hand) < 17 and not player_bust and not blackjack:\n",
        "      dealer_hand.append(deal_card())\n",
        "\n",
        "    # Print the dealer's hand and score\n",
        "    print(\"Dealer's hand:\", dealer_hand)\n",
        "    print(\"Dealer's score:\", calculate_score(dealer_hand))\n",
        "\n",
        "    # Determine the winner\n",
        "    if not (blackjack or dealer_bj or player_bust):\n",
        "      if calculate_score(player_hand) > calculate_score(dealer_hand) and calculate_score(player_hand) <= 21 or calculate_score(dealer_hand)>21:\n",
        "        print(\"Player wins!\")\n",
        "        player_stack+= 2*bet\n",
        "      elif calculate_score(dealer_hand) > calculate_score(player_hand) and calculate_score(dealer_hand) <= 21 or calculate_score(player_hand)>21:\n",
        "        print(\"Dealer wins!\")\n",
        "      else:\n",
        "        print(\"Tie!\")\n",
        "        player_stack+=bet\n",
        "# refine_player()"
      ]
    },
    {
      "cell_type": "markdown",
      "metadata": {
        "id": "UChPa2mSWDb_"
      },
      "source": [
        "### Basic Strategy Computation\n"
      ]
    },
    {
      "cell_type": "code",
      "execution_count": 4,
      "metadata": {
        "colab": {
          "base_uri": "https://localhost:8080/"
        },
        "id": "z9PMTyHoN7MA",
        "outputId": "ed6815f1-e591-4933-be78-2b5ded99a4a2"
      },
      "outputs": [
        {
          "data": {
            "text/plain": [
              "[[2, 3, 4, 5, 6, 7, 8, 9, 10, 10, 10, 10, 11],\n",
              " [2, 3, 4, 5, 6, 7, 8, 9, 10, 10, 10, 10, 11],\n",
              " [2, 3, 4, 5, 6, 7, 8, 9, 10, 10, 10, 10, 11],\n",
              " [2, 3, 4, 5, 6, 7, 8, 9, 10, 10, 10, 10, 11],\n",
              " [2, 3, 4, 5, 6, 7, 8, 9, 10, 10, 10, 10, 11],\n",
              " [2, 3, 4, 5, 6, 7, 8, 9, 10, 10, 10, 10, 11],\n",
              " [2, 3, 4, 5, 6, 7, 8, 9, 10, 10, 10, 10, 11],\n",
              " [2, 3, 4, 5, 6, 7, 8, 9, 10, 10, 10, 10, 11],\n",
              " [2, 3, 4, 5, 6, 7, 8, 9, 10, 10, 10, 10, 11],\n",
              " [2, 3, 4, 5, 6, 7, 8, 9, 10, 10, 10, 10, 11],\n",
              " [2, 3, 4, 5, 6, 7, 8, 9, 10, 10, 10, 10, 11],\n",
              " [2, 3, 4, 5, 6, 7, 8, 9, 10, 10, 10, 10, 11],\n",
              " [2, 3, 4, 5, 6, 7, 8, 9, 10, 10, 10, 10, 11],\n",
              " [2, 3, 4, 5, 6, 7, 8, 9, 10, 10, 10, 10, 11],\n",
              " [2, 3, 4, 5, 6, 7, 8, 9, 10, 10, 10, 10, 11],\n",
              " [2, 3, 4, 5, 6, 7, 8, 9, 10, 10, 10, 10, 11],\n",
              " [2, 3, 4, 5, 6, 7, 8, 9, 10, 10, 10, 10, 11],\n",
              " [2, 3, 4, 5, 6, 7, 8, 9, 10, 10, 10, 10, 11],\n",
              " [2, 3, 4, 5, 6, 7, 8, 9, 10, 10, 10, 10, 11],\n",
              " [2, 3, 4, 5, 6, 7, 8, 9, 10, 10, 10, 10, 11],\n",
              " [2, 3, 4, 5, 6, 7, 8, 9, 10, 10, 10, 10, 11],\n",
              " [2, 3, 4, 5, 6, 7, 8, 9, 10, 10, 10, 10, 11],\n",
              " [2, 3, 4, 5, 6, 7, 8, 9, 10, 10, 10, 10, 11],\n",
              " [2, 3, 4, 5, 6, 7, 8, 9, 10, 10, 10, 10, 11],\n",
              " [2, 3, 4, 5, 6, 7, 8, 9, 10, 10, 10, 10, 11],\n",
              " [2, 3, 4, 5, 6, 7, 8, 9, 10, 10, 10, 10, 11],\n",
              " [2, 3, 4, 5, 6, 7, 8, 9, 10, 10, 10, 10, 11],\n",
              " [2, 3, 4, 5, 6, 7, 8, 9, 10, 10, 10, 10, 11]]"
            ]
          },
          "execution_count": 4,
          "metadata": {},
          "output_type": "execute_result"
        }
      ],
      "source": [
        "deck"
      ]
    },
    {
      "cell_type": "code",
      "execution_count": 5,
      "metadata": {
        "id": "OSp2ux7Vou6T"
      },
      "outputs": [
        {
          "data": {
            "text/plain": [
              "[array([0.13666667, 0.14433333, 0.13766667, 0.10766667, 0.12233333,\n",
              "        0.35133333]),\n",
              " array([0.127     , 0.14433333, 0.127     , 0.126     , 0.121     ,\n",
              "        0.35466667]),\n",
              " array([0.13633333, 0.129     , 0.131     , 0.107     , 0.107     ,\n",
              "        0.38966667]),\n",
              " array([0.119     , 0.128     , 0.10666667, 0.12166667, 0.106     ,\n",
              "        0.41866667]),\n",
              " array([0.163     , 0.098     , 0.10033333, 0.11633333, 0.10533333,\n",
              "        0.417     ]),\n",
              " array([0.37433333, 0.143     , 0.07266667, 0.07566667, 0.07733333,\n",
              "        0.257     ]),\n",
              " array([0.12966667, 0.35033333, 0.125     , 0.06866667, 0.078     ,\n",
              "        0.24833333]),\n",
              " array([0.11566667, 0.114     , 0.35366667, 0.12      , 0.06433333,\n",
              "        0.23233333]),\n",
              " array([0.112     , 0.114     , 0.11233333, 0.328     , 0.11533333,\n",
              "        0.21833333]),\n",
              " array([0.128     , 0.14133333, 0.125     , 0.12066667, 0.358     ,\n",
              "        0.127     ])]"
            ]
          },
          "execution_count": 5,
          "metadata": {},
          "output_type": "execute_result"
        }
      ],
      "source": [
        "def dealer_card(deck1):\n",
        "  deck = copy.deepcopy(deck1)\n",
        "  while True:\n",
        "    int1 = random.randint(0,3)\n",
        "    if len(deck[int1]) > 0:\n",
        "      return (deck[int1].pop(random.randint(0,len(deck[int1])-1)), deck)\n",
        "## Dealer's distributions\n",
        "def compute_dealer(deck, trials):\n",
        "  def compute_dealer1(deck, dealer_hand,trials):\n",
        "    \"\"\"\n",
        "    deck: nested arrays of all the cards still in the deck\n",
        "    dealer_hand: array of cards that the dealer has face-up right now\n",
        "    @ return: array that holds the probability of stopping at each possible sum\n",
        "    \"\"\"\n",
        "    prob_dist = list(np.zeros(6))\n",
        "    deck1 = copy.deepcopy(deck)\n",
        "\n",
        "    for i in range(trials):\n",
        "      dealer_hand1 = copy.deepcopy(dealer_hand)\n",
        "      deck=copy.deepcopy(deck1)\n",
        "      while calculate_score(dealer_hand1)<17:\n",
        "        value = dealer_card(deck)\n",
        "        dealer_hand1.append(value[0])\n",
        "        deck = value[1]\n",
        "        # print(deck)\n",
        "      if (calculate_score(dealer_hand1)<=21):  \n",
        "        \n",
        "        prob_dist[calculate_score(dealer_hand1)-17]+=1\n",
        "      else:\n",
        "        prob_dist[-1]+=1\n",
        "    prob_dist = np.asarray(prob_dist)/np.sum(prob_dist)\n",
        "    return prob_dist\n",
        "  dealer_matrix = []\n",
        "  for i in range(2,12):\n",
        "    dealer_matrix.append(compute_dealer1(deck, [i],trials))\n",
        "# list(range(2,12))\n",
        "  return dealer_matrix\n",
        "dealer_matrix = compute_dealer(deck, 3000)\n",
        "dealer_matrix"
      ]
    },
    {
      "cell_type": "code",
      "execution_count": 6,
      "metadata": {
        "colab": {
          "base_uri": "https://localhost:8080/"
        },
        "id": "vK_mgLv9I2sf",
        "outputId": "84a3c3b6-748d-4675-80ed-62aa1f4d661c"
      },
      "outputs": [
        {
          "data": {
            "text/plain": [
              "[array([0.13666667, 0.14433333, 0.13766667, 0.10766667, 0.12233333,\n",
              "        0.35133333]),\n",
              " array([0.127     , 0.14433333, 0.127     , 0.126     , 0.121     ,\n",
              "        0.35466667]),\n",
              " array([0.13633333, 0.129     , 0.131     , 0.107     , 0.107     ,\n",
              "        0.38966667]),\n",
              " array([0.119     , 0.128     , 0.10666667, 0.12166667, 0.106     ,\n",
              "        0.41866667]),\n",
              " array([0.163     , 0.098     , 0.10033333, 0.11633333, 0.10533333,\n",
              "        0.417     ]),\n",
              " array([0.37433333, 0.143     , 0.07266667, 0.07566667, 0.07733333,\n",
              "        0.257     ]),\n",
              " array([0.12966667, 0.35033333, 0.125     , 0.06866667, 0.078     ,\n",
              "        0.24833333]),\n",
              " array([0.11566667, 0.114     , 0.35366667, 0.12      , 0.06433333,\n",
              "        0.23233333]),\n",
              " array([0.112     , 0.114     , 0.11233333, 0.328     , 0.11533333,\n",
              "        0.21833333]),\n",
              " array([0.128     , 0.14133333, 0.125     , 0.12066667, 0.358     ,\n",
              "        0.127     ])]"
            ]
          },
          "execution_count": 6,
          "metadata": {},
          "output_type": "execute_result"
        }
      ],
      "source": [
        "dealer_matrix # each array within here represents one of the dealer's hands from 2-A, and each entry within this matrix represents the probability of ending up at a sum of 17, 18, 19, 20, 21, and busting. "
      ]
    },
    {
      "cell_type": "code",
      "execution_count": 7,
      "metadata": {
        "colab": {
          "base_uri": "https://localhost:8080/"
        },
        "id": "iyYn4ZLvSnPR",
        "outputId": "709a77b5-5182-4f88-fd83-0d1ab01f5a1a"
      },
      "outputs": [
        {
          "data": {
            "text/plain": [
              "[0.35133333333333333,\n",
              " 0.3546666666666667,\n",
              " 0.38966666666666666,\n",
              " 0.4186666666666667,\n",
              " 0.417,\n",
              " 0.257,\n",
              " 0.24833333333333332,\n",
              " 0.23233333333333334,\n",
              " 0.21833333333333332,\n",
              " 0.127]"
            ]
          },
          "execution_count": 7,
          "metadata": {},
          "output_type": "execute_result"
        }
      ],
      "source": [
        "busting_freq = list(np.zeros(10))\n",
        "for i in range(len(dealer_matrix)):\n",
        "  for j in range(5,len(dealer_matrix[i])):\n",
        "    busting_freq[i]+=dealer_matrix[i][j]\n",
        "busting_freq"
      ]
    },
    {
      "cell_type": "code",
      "execution_count": 8,
      "metadata": {
        "colab": {
          "base_uri": "https://localhost:8080/",
          "height": 798
        },
        "id": "34BwzNLGUL3u",
        "outputId": "a70ae0a4-ebea-4e81-acf9-20e0bb509242"
      },
      "outputs": [
        {
          "data": {
            "text/html": [
              "<div>\n",
              "<style scoped>\n",
              "    .dataframe tbody tr th:only-of-type {\n",
              "        vertical-align: middle;\n",
              "    }\n",
              "\n",
              "    .dataframe tbody tr th {\n",
              "        vertical-align: top;\n",
              "    }\n",
              "\n",
              "    .dataframe thead th {\n",
              "        text-align: right;\n",
              "    }\n",
              "</style>\n",
              "<table border=\"1\" class=\"dataframe\">\n",
              "  <thead>\n",
              "    <tr style=\"text-align: right;\">\n",
              "      <th></th>\n",
              "      <th>0</th>\n",
              "    </tr>\n",
              "  </thead>\n",
              "  <tbody>\n",
              "    <tr>\n",
              "      <th>2</th>\n",
              "      <td>0.351333</td>\n",
              "    </tr>\n",
              "    <tr>\n",
              "      <th>3</th>\n",
              "      <td>0.354667</td>\n",
              "    </tr>\n",
              "    <tr>\n",
              "      <th>4</th>\n",
              "      <td>0.389667</td>\n",
              "    </tr>\n",
              "    <tr>\n",
              "      <th>5</th>\n",
              "      <td>0.418667</td>\n",
              "    </tr>\n",
              "    <tr>\n",
              "      <th>6</th>\n",
              "      <td>0.417000</td>\n",
              "    </tr>\n",
              "    <tr>\n",
              "      <th>7</th>\n",
              "      <td>0.257000</td>\n",
              "    </tr>\n",
              "    <tr>\n",
              "      <th>8</th>\n",
              "      <td>0.248333</td>\n",
              "    </tr>\n",
              "    <tr>\n",
              "      <th>9</th>\n",
              "      <td>0.232333</td>\n",
              "    </tr>\n",
              "    <tr>\n",
              "      <th>10</th>\n",
              "      <td>0.218333</td>\n",
              "    </tr>\n",
              "    <tr>\n",
              "      <th>11</th>\n",
              "      <td>0.127000</td>\n",
              "    </tr>\n",
              "  </tbody>\n",
              "</table>\n",
              "</div>"
            ],
            "text/plain": [
              "           0\n",
              "2   0.351333\n",
              "3   0.354667\n",
              "4   0.389667\n",
              "5   0.418667\n",
              "6   0.417000\n",
              "7   0.257000\n",
              "8   0.248333\n",
              "9   0.232333\n",
              "10  0.218333\n",
              "11  0.127000"
            ]
          },
          "metadata": {},
          "output_type": "display_data"
        },
        {
          "data": {
            "image/png": "[encoded data removed]",
            "text/plain": [
              "<Figure size 640x480 with 1 Axes>"
            ]
          },
          "metadata": {},
          "output_type": "display_data"
        }
      ],
      "source": [
        "plt.scatter(range(2,12),busting_freq)\n",
        "plt.title(\"Busting Frequencies for dealer depending on hand\")\n",
        "display(pd.DataFrame(busting_freq,range(2,12)))\n",
        "plt.show()\n"
      ]
    },
    {
      "cell_type": "markdown",
      "metadata": {},
      "source": [
        "## Computing optimal moves"
      ]
    },
    {
      "cell_type": "code",
      "execution_count": 9,
      "metadata": {},
      "outputs": [
        {
          "data": {
            "text/plain": [
              "[]"
            ]
          },
          "execution_count": 9,
          "metadata": {},
          "output_type": "execute_result"
        }
      ],
      "source": [
        "list(range(0,-3))"
      ]
    },
    {
      "cell_type": "code",
      "execution_count": 10,
      "metadata": {},
      "outputs": [
        {
          "data": {
            "text/plain": [
              "0.8156666666666668"
            ]
          },
          "execution_count": 10,
          "metadata": {},
          "output_type": "execute_result"
        }
      ],
      "source": [
        "def stand_prob(player_hand, dealer_hand, dealer_matrix):\n",
        "    \"\"\"\"\n",
        "    Computes the probability of winning if the player stands\n",
        "    \"\"\"\n",
        "    dealer_sum = calculate_score(dealer_hand)\n",
        "    W_prob = 0\n",
        "    if (calculate_score(player_hand)<=21):\n",
        "        index = calculate_score(player_hand)-17\n",
        "        for i in range(0,index):\n",
        "            W_prob+=dealer_matrix[dealer_hand[0]-2][i] ## Summing up all the probs of dealer getting a lower hand\n",
        "        W_prob+=dealer_matrix[dealer_hand[0]-2][-1] ## Adding on busting frequency for dealer\n",
        "    return W_prob\n",
        "stand_prob([10,10],[9],dealer_matrix) ## Testing this out here"
      ]
    },
    {
      "cell_type": "markdown",
      "metadata": {},
      "source": [
        "### Hit Probability Algorithm Outline\n",
        "\n",
        "Obviously we should hit anything at 11 or below. But what about 12-20? (we're being a bit more liberal about the upper end). \n",
        "\n",
        "Here's what I'm thinking: at the higher ends, one only needs to compare $P(\\text{hitting and standing})$ against $P(\\text{standing})$. At the cutoff, the sum $n$ where holding a sum of $n$ or below necessitates hitting as an optimal strategy will have \n",
        "\n",
        "$$P(\\text{hitting and standing}) > P(\\text{standing})$$\n",
        "\n",
        "But note that this $P(\\text{hitting and standing})$ is the only probability we need to compute for any current player hand sum. Clearly, this probability will be greater the lower our sum is! (We don't even need to find the exact probability of winning by hitting)\n"
      ]
    },
    {
      "cell_type": "code",
      "execution_count": 18,
      "metadata": {},
      "outputs": [
        {
          "name": "stdout",
          "output_type": "stream",
          "text": [
            "True\n"
          ]
        }
      ],
      "source": [
        "def should_hit(player_hand, dealer_hand, dealer_matrix, deck):\n",
        "    \"\"\"\"\n",
        "    @return: Does hitting and standing have a better probability of winning than just standing?\n",
        "    \"\"\"\n",
        "    def hit_and_stand_win_prob():\n",
        "        \"\"\"\n",
        "        @return: Probability of winning if the current player hand hits and stands against dealer hand\n",
        "        \"\"\"\n",
        "        win_prob = 0\n",
        "        trials = 3000\n",
        "        for j in range(trials):\n",
        "            # exp_deck = copy.deepcopy(deck)     \n",
        "            play_hand_copy = copy.deepcopy(player_hand) #resetting player hand after each test\n",
        "            value = deal_card() # note that we don't change the deck\n",
        "            play_hand_copy.append(value) #adding in the card to player hand\n",
        "            win_prob += stand_prob(play_hand_copy,dealer_hand,dealer_matrix)/trials\n",
        "        return win_prob\n",
        "    a = hit_and_stand_win_prob()\n",
        "    b = stand_prob(player_hand,dealer_hand,dealer_matrix)\n",
        "    return a>b            \n",
        "print(should_hit([7,1],[2],dealer_matrix,deck) )\n"
      ]
    },
    {
      "cell_type": "code",
      "execution_count": 12,
      "metadata": {},
      "outputs": [
        {
          "data": {
            "text/plain": [
              "[]"
            ]
          },
          "execution_count": 12,
          "metadata": {},
          "output_type": "execute_result"
        }
      ],
      "source": [
        "deck"
      ]
    },
    {
      "cell_type": "markdown",
      "metadata": {},
      "source": [
        "### Putting it All Together\n",
        "\n",
        "We just need a space for the bot to place bets and play!"
      ]
    },
    {
      "cell_type": "code",
      "execution_count": null,
      "metadata": {},
      "outputs": [],
      "source": [
        "def bot_backend(player_hand, dealer_hand, deck):\n",
        "    \"\"\"\"\n",
        "    Computes and updates all variables to determine if bot should hit or stand\n",
        "    @returns bot's decision to hit or stand\n",
        "    \"\"\"\n",
        "    new_dealer_matrix = compute_dealer(deck, dealer_hand,3000)\n",
        "    return should_hit(player_hand, dealer_hand, new_dealer_matrix, deck)\n",
        "## Should add another one where the bot determines if the deck favors or doesn't favor the bot over the dealer (through trials?)"
      ]
    },
    {
      "cell_type": "code",
      "execution_count": 19,
      "metadata": {},
      "outputs": [
        {
          "name": "stdout",
          "output_type": "stream",
          "text": [
            "Bot stack: 1000\n",
            "Bot stack: 1000\n",
            "Bot stack: 1010\n",
            "Bot stack: 1010\n",
            "Bot stack: 1020\n",
            "Bot stack: 1010\n"
          ]
        },
        {
          "ename": "KeyboardInterrupt",
          "evalue": "",
          "output_type": "error",
          "traceback": [
            "\u001b[1;31m---------------------------------------------------------------------------\u001b[0m",
            "\u001b[1;31mKeyboardInterrupt\u001b[0m                         Traceback (most recent call last)",
            "Cell \u001b[1;32mIn[19], line 71\u001b[0m\n\u001b[0;32m     68\u001b[0m \u001b[38;5;28;01mdef\u001b[39;00m \u001b[38;5;21mcollect_bot_data\u001b[39m():\n\u001b[0;32m     69\u001b[0m   array \u001b[38;5;241m=\u001b[39m []\n\u001b[1;32m---> 71\u001b[0m play_blackjack_bot()\n",
            "Cell \u001b[1;32mIn[19], line 30\u001b[0m, in \u001b[0;36mplay_blackjack_bot\u001b[1;34m()\u001b[0m\n\u001b[0;32m     27\u001b[0m \u001b[38;5;28;01melif\u001b[39;00m \u001b[38;5;28msum\u001b[39m(player_hand) \u001b[38;5;241m<\u001b[39m \u001b[38;5;241m21\u001b[39m \u001b[38;5;129;01mand\u001b[39;00m \u001b[38;5;28msum\u001b[39m(dealer_hand) \u001b[38;5;241m==\u001b[39m \u001b[38;5;241m21\u001b[39m:\n\u001b[0;32m     28\u001b[0m   \u001b[38;5;66;03m# print(\"Dealer's blackjack!\")\u001b[39;00m\n\u001b[0;32m     29\u001b[0m   dealer_bj \u001b[38;5;241m=\u001b[39m \u001b[38;5;28;01mTrue\u001b[39;00m\n\u001b[1;32m---> 30\u001b[0m dealer_matrix \u001b[38;5;241m=\u001b[39m compute_dealer(deck, \u001b[38;5;241m3000\u001b[39m)\n\u001b[0;32m     31\u001b[0m \u001b[38;5;28;01mwhile\u001b[39;00m \u001b[38;5;129;01mnot\u001b[39;00m blackjack \u001b[38;5;129;01mand\u001b[39;00m \u001b[38;5;129;01mnot\u001b[39;00m dealer_bj:\n\u001b[0;32m     32\u001b[0m   choice \u001b[38;5;241m=\u001b[39m should_hit(player_hand, dealer_hand, dealer_matrix, deck)\n",
            "Cell \u001b[1;32mIn[5], line 35\u001b[0m, in \u001b[0;36mcompute_dealer\u001b[1;34m(deck, trials)\u001b[0m\n\u001b[0;32m     33\u001b[0m   dealer_matrix \u001b[38;5;241m=\u001b[39m []\n\u001b[0;32m     34\u001b[0m   \u001b[38;5;28;01mfor\u001b[39;00m i \u001b[38;5;129;01min\u001b[39;00m \u001b[38;5;28mrange\u001b[39m(\u001b[38;5;241m2\u001b[39m,\u001b[38;5;241m12\u001b[39m):\n\u001b[1;32m---> 35\u001b[0m     dealer_matrix\u001b[38;5;241m.\u001b[39mappend(compute_dealer1(deck, [i],trials))\n\u001b[0;32m     36\u001b[0m \u001b[38;5;66;03m# list(range(2,12))\u001b[39;00m\n\u001b[0;32m     37\u001b[0m   \u001b[38;5;28;01mreturn\u001b[39;00m dealer_matrix\n",
            "Cell \u001b[1;32mIn[5], line 22\u001b[0m, in \u001b[0;36mcompute_dealer.<locals>.compute_dealer1\u001b[1;34m(deck, dealer_hand, trials)\u001b[0m\n\u001b[0;32m     20\u001b[0m deck\u001b[38;5;241m=\u001b[39mcopy\u001b[38;5;241m.\u001b[39mdeepcopy(deck1)\n\u001b[0;32m     21\u001b[0m \u001b[38;5;28;01mwhile\u001b[39;00m calculate_score(dealer_hand1)\u001b[38;5;241m<\u001b[39m\u001b[38;5;241m17\u001b[39m:\n\u001b[1;32m---> 22\u001b[0m   value \u001b[38;5;241m=\u001b[39m dealer_card(deck)\n\u001b[0;32m     23\u001b[0m   dealer_hand1\u001b[38;5;241m.\u001b[39mappend(value[\u001b[38;5;241m0\u001b[39m])\n\u001b[0;32m     24\u001b[0m   deck \u001b[38;5;241m=\u001b[39m value[\u001b[38;5;241m1\u001b[39m]\n",
            "Cell \u001b[1;32mIn[5], line 2\u001b[0m, in \u001b[0;36mdealer_card\u001b[1;34m(deck1)\u001b[0m\n\u001b[0;32m      1\u001b[0m \u001b[38;5;28;01mdef\u001b[39;00m \u001b[38;5;21mdealer_card\u001b[39m(deck1):\n\u001b[1;32m----> 2\u001b[0m   deck \u001b[38;5;241m=\u001b[39m copy\u001b[38;5;241m.\u001b[39mdeepcopy(deck1)\n\u001b[0;32m      3\u001b[0m   \u001b[38;5;28;01mwhile\u001b[39;00m \u001b[38;5;28;01mTrue\u001b[39;00m:\n\u001b[0;32m      4\u001b[0m     int1 \u001b[38;5;241m=\u001b[39m random\u001b[38;5;241m.\u001b[39mrandint(\u001b[38;5;241m0\u001b[39m,\u001b[38;5;241m3\u001b[39m)\n",
            "File \u001b[1;32mc:\\Users\\kaili\\anaconda3\\Lib\\copy.py:146\u001b[0m, in \u001b[0;36mdeepcopy\u001b[1;34m(x, memo, _nil)\u001b[0m\n\u001b[0;32m    144\u001b[0m copier \u001b[38;5;241m=\u001b[39m _deepcopy_dispatch\u001b[38;5;241m.\u001b[39mget(\u001b[38;5;28mcls\u001b[39m)\n\u001b[0;32m    145\u001b[0m \u001b[38;5;28;01mif\u001b[39;00m copier \u001b[38;5;129;01mis\u001b[39;00m \u001b[38;5;129;01mnot\u001b[39;00m \u001b[38;5;28;01mNone\u001b[39;00m:\n\u001b[1;32m--> 146\u001b[0m     y \u001b[38;5;241m=\u001b[39m copier(x, memo)\n\u001b[0;32m    147\u001b[0m \u001b[38;5;28;01melse\u001b[39;00m:\n\u001b[0;32m    148\u001b[0m     \u001b[38;5;28;01mif\u001b[39;00m \u001b[38;5;28missubclass\u001b[39m(\u001b[38;5;28mcls\u001b[39m, \u001b[38;5;28mtype\u001b[39m):\n",
            "File \u001b[1;32mc:\\Users\\kaili\\anaconda3\\Lib\\copy.py:206\u001b[0m, in \u001b[0;36m_deepcopy_list\u001b[1;34m(x, memo, deepcopy)\u001b[0m\n\u001b[0;32m    204\u001b[0m append \u001b[38;5;241m=\u001b[39m y\u001b[38;5;241m.\u001b[39mappend\n\u001b[0;32m    205\u001b[0m \u001b[38;5;28;01mfor\u001b[39;00m a \u001b[38;5;129;01min\u001b[39;00m x:\n\u001b[1;32m--> 206\u001b[0m     append(deepcopy(a, memo))\n\u001b[0;32m    207\u001b[0m \u001b[38;5;28;01mreturn\u001b[39;00m y\n",
            "File \u001b[1;32mc:\\Users\\kaili\\anaconda3\\Lib\\copy.py:137\u001b[0m, in \u001b[0;36mdeepcopy\u001b[1;34m(x, memo, _nil)\u001b[0m\n\u001b[0;32m    134\u001b[0m \u001b[38;5;28;01mif\u001b[39;00m memo \u001b[38;5;129;01mis\u001b[39;00m \u001b[38;5;28;01mNone\u001b[39;00m:\n\u001b[0;32m    135\u001b[0m     memo \u001b[38;5;241m=\u001b[39m {}\n\u001b[1;32m--> 137\u001b[0m d \u001b[38;5;241m=\u001b[39m \u001b[38;5;28mid\u001b[39m(x)\n\u001b[0;32m    138\u001b[0m y \u001b[38;5;241m=\u001b[39m memo\u001b[38;5;241m.\u001b[39mget(d, _nil)\n\u001b[0;32m    139\u001b[0m \u001b[38;5;28;01mif\u001b[39;00m y \u001b[38;5;129;01mis\u001b[39;00m \u001b[38;5;129;01mnot\u001b[39;00m _nil:\n",
            "\u001b[1;31mKeyboardInterrupt\u001b[0m: "
          ]
        }
      ],
      "source": [
        "def play_blackjack_bot(): #I think I should split this into two functions: one that calculates each round, the other that runs that and manages the stack\n",
        "  player_stack = 1000\n",
        "  bet = 0\n",
        "  stack_amount = []\n",
        "  # Play the player's turn\n",
        "  while True:\n",
        "    stack_amount.append(player_stack)\n",
        "    blackjack = False\n",
        "    dealer_bj = False\n",
        "    player_bust = False\n",
        "    print(\"Bot stack: \" + str(player_stack))\n",
        "\n",
        "    bet = 10 #Might add in some bet variance with the bot in later devs\n",
        "    \n",
        "    player_stack -= bet\n",
        "    player_hand = [deal_card(), deal_card()]\n",
        "    dealer_hand = [deal_card(), deal_card()]\n",
        "    # Print the player's hand and score\n",
        "    # print(\"Player's hand:\", player_hand)\n",
        "    # print(\"Dealer's hand:\", dealer_hand[0])\n",
        "    # print(\"Player's score:\", calculate_score(player_hand))\n",
        "\n",
        "    if sum(player_hand) == 21 and sum(dealer_hand) < 21:\n",
        "      # print(\"blackjack!\")\n",
        "      blackjack = True\n",
        "      player_stack += bet * 2.5\n",
        "    elif sum(player_hand) < 21 and sum(dealer_hand) == 21:\n",
        "      # print(\"Dealer's blackjack!\")\n",
        "      dealer_bj = True\n",
        "    dealer_matrix = compute_dealer(deck, 3000)\n",
        "    while not blackjack and not dealer_bj:\n",
        "      choice = should_hit(player_hand, dealer_hand, dealer_matrix, deck)\n",
        "\n",
        "      # If the player hits, deal them another card\n",
        "      if choice:\n",
        "        player_hand.append(deal_card())\n",
        "        # print(\"Player's hand:\", player_hand)\n",
        "\n",
        "      # If the player stands, break out of the loop\n",
        "      else:\n",
        "        break\n",
        "\n",
        "      # If the player busts, they lose\n",
        "      if calculate_score(player_hand) > 21:\n",
        "        # print(\"Player's hand:\", player_hand)\n",
        "        # print(\"Player busts!\")\n",
        "        player_bust = True\n",
        "        break\n",
        "    # Play the dealer's turn\n",
        "    while calculate_score(dealer_hand) < 17 and not player_bust and not blackjack:\n",
        "      dealer_hand.append(deal_card())\n",
        "\n",
        "    # Print the dealer's hand and score\n",
        "    # print(\"Dealer's hand:\", dealer_hand)\n",
        "    # print(\"Dealer's score:\", calculate_score(dealer_hand))\n",
        "\n",
        "    # Determine the winner\n",
        "    if not (blackjack or dealer_bj or player_bust):\n",
        "      if calculate_score(player_hand) > calculate_score(dealer_hand) and calculate_score(player_hand) <= 21 or calculate_score(dealer_hand)>21:\n",
        "        # print(\"Player wins!\")\n",
        "        player_stack+= 2*bet\n",
        "      # elif calculate_score(dealer_hand) > calculate_score(player_hand) and calculate_score(dealer_hand) <= 21 or calculate_score(player_hand)>21:\n",
        "        # print(\"Dealer wins!\")\n",
        "      else:\n",
        "        player_stack+=bet\n",
        "        # print(\"Tie!\")\n",
        "\n",
        "def collect_bot_data():\n",
        "  array = []\n",
        "  \n",
        "play_blackjack_bot()"
      ]
    },
    {
      "cell_type": "markdown",
      "metadata": {
        "id": "Bav2WOIwWGkG"
      },
      "source": [
        "## Interface for bots & algorithms\n",
        "\n",
        "Here, we'll try to extend this by examining different kinds of card-counting strategies and see how they fare over the long term, with base bet units of 1 to be simulated ____ number of times (fill this in later). Here are some betting bot strategies here:\n",
        "\n",
        "1. Martingale: doubling bet after each loss, return to initial bet after a win\n",
        "\n",
        "2. Hi-Lo: Most popular one, with 2,3,4,5,6 being +1, 7-9 being +0, and 10-A being -1 (more positive counts = better chance of winning). Bet will be (true count - 1) * (base betting unit)\n",
        "\n",
        "3. Hi-Opt:\n",
        "\n",
        "  1.   4 and 5 | +2\n",
        "  2.   2, 3. 6. and 7 | +1\n",
        "  2.   8 and 9 | +0\n",
        "  2.   10 to K | -2\n",
        "\n",
        "4. Constant bets, basic strategy"
      ]
    }
  ],
  "metadata": {
    "colab": {
      "provenance": []
    },
    "kernelspec": {
      "display_name": "Python 3",
      "name": "python3"
    },
    "language_info": {
      "codemirror_mode": {
        "name": "ipython",
        "version": 3
      },
      "file_extension": ".py",
      "mimetype": "text/x-python",
      "name": "python",
      "nbconvert_exporter": "python",
      "pygments_lexer": "ipython3",
      "version": "3.11.5"
    }
  },
  "nbformat": 4,
  "nbformat_minor": 0
}

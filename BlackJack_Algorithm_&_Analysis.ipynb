{
  "cells": [
    {
      "cell_type": "code",
      "execution_count": 2,
      "metadata": {
        "id": "yUjm4iTQLxIm"
      },
      "outputs": [],
      "source": [
        "import numpy as np\n",
        "import pandas as pd\n",
        "import matplotlib.pyplot as plt\n",
        "import sklearn\n",
        "import random\n",
        "import copy\n"
      ]
    },
    {
      "cell_type": "markdown",
      "metadata": {
        "id": "yotAFf5wt8Ys"
      },
      "source": [
        "## Solo Blackjack Gameplay\n",
        "\n",
        "Here, we'll implement the most basic form of blackjack:\n",
        "\n",
        "\n",
        "1.   The player starts off with a stack of 1000\n",
        "2.   Blackjack pays 3 to 2\n",
        "3.   A bet of 0 or less terminates the program, displaying the player's stack over time on a chart\n",
        "3.   Deck is reshuffled after a certain number of cards is gone through (these are customizable in the program)\n",
        "\n"
      ]
    },
    {
      "cell_type": "code",
      "execution_count": 3,
      "metadata": {
        "id": "rGPaH5exMbVt"
      },
      "outputs": [],
      "source": [
        "# Initialize the deck of cards\n",
        "deck_s = [2, 3, 4, 5, 6, 7, 8, 9, 10, 10, 10, 10, 11]\n",
        "deck_h = [2, 3, 4, 5, 6, 7, 8, 9, 10, 10, 10, 10, 11]\n",
        "deck_d = [2, 3, 4, 5, 6, 7, 8, 9, 10, 10, 10, 10, 11]\n",
        "deck_c = [2, 3, 4, 5, 6, 7, 8, 9, 10, 10, 10, 10, 11]\n",
        "deck = [deck_s, deck_h, deck_d, deck_c]\n",
        "new_deck = copy.deepcopy(deck)\n",
        "cards_to_shuffle = 26\n",
        "cards_used = 0\n",
        "def debugger():\n",
        "  global cards_used, deck, new_deck\n",
        "  print(cards_used, \"\\n\", deck,\"\\n\", new_deck)\n",
        "\n",
        "# Define the function to deal a card\n",
        "def deal_card():\n",
        "  global cards_used, deck, new_deck\n",
        "  if cards_used >= cards_to_shuffle:\n",
        "    deck = copy.deepcopy(new_deck)\n",
        "    cards_used = 0\n",
        "    print(\"Deck is shuffled!\")\n",
        "  cards_used += 1\n",
        "  while True:\n",
        "    int1 = random.randint(0,3)\n",
        "    if len(deck[int1]) > 0:\n",
        "      return deck[int1].pop(random.randint(0,len(deck[int1])-1))\n",
        "\n",
        "# Define the function to calculate the score of a hand\n",
        "def calculate_score(hand):\n",
        "  score = sum(hand)\n",
        "  for i in hand:\n",
        "    if i==11 and score > 21:\n",
        "      score-=10\n",
        "  return score\n",
        "\n",
        "# Define the function to play a game of blackjack\n",
        "def play_blackjack(): #I think I should split this into two functions: one that calculates each round, the other that runs that and manages the stack\n",
        "  player_stack = 1000\n",
        "  bet = 0\n",
        "  stack_amount = []\n",
        "  # Play the player's turn\n",
        "  while True:\n",
        "    stack_amount.append(player_stack)\n",
        "    blackjack = False\n",
        "    dealer_bj = False\n",
        "    player_bust = False\n",
        "    print(\"Your stack: \" + str(player_stack))\n",
        "    while True:\n",
        "      debugger()\n",
        "      print(\"-\"*10)\n",
        "      bet = input(\"How much to bet? \")\n",
        "      if bet.isnumeric():\n",
        "        bet = float(bet)\n",
        "        player_stack -= bet\n",
        "        break\n",
        "      else:\n",
        "          while not bet.isnumeric():\n",
        "            bet = input(\"How much to bet? \")\n",
        "          bet = float(bet)\n",
        "          player_stack -= bet\n",
        "          break\n",
        "    if (bet <= 0):\n",
        "      plt.plot(range(0,len(stack_amount)),stack_amount)\n",
        "      break\n",
        "    player_hand = [deal_card(), deal_card()]\n",
        "    dealer_hand = [deal_card(), deal_card()]\n",
        "    # Print the player's hand and score\n",
        "    print(\"Player's hand:\", player_hand)\n",
        "    print(\"Dealer's hand:\", dealer_hand[0])\n",
        "    print(\"Player's score:\", calculate_score(player_hand))\n",
        "\n",
        "    if sum(player_hand) == 21 and sum(dealer_hand) < 21:\n",
        "      print(\"blackjack!\")\n",
        "      blackjack = True\n",
        "      player_stack += bet * 2.5\n",
        "    elif sum(player_hand) < 21 and sum(dealer_hand) == 21:\n",
        "      print(\"Dealer's blackjack!\")\n",
        "      dealer_bj = True\n",
        "\n",
        "\n",
        "    while not blackjack and not dealer_bj:\n",
        "      # Get the player's input\n",
        "      print(\"Player's hand:\", player_hand)\n",
        "      print(\"Dealer's hand:\", dealer_hand[0])\n",
        "      choice = input(\"Hit or stand? (h/s) \")\n",
        "\n",
        "      # If the player hits, deal them another card\n",
        "      if choice == \"h\":\n",
        "        player_hand.append(deal_card())\n",
        "        print(\"Player's hand:\", player_hand)\n",
        "\n",
        "      # If the player stands, break out of the loop\n",
        "      elif choice == \"s\":\n",
        "        break\n",
        "\n",
        "      # If the player busts, they lose\n",
        "      if calculate_score(player_hand) > 21:\n",
        "        # print(\"Player's hand:\", player_hand)\n",
        "        print(\"Player busts!\")\n",
        "        player_bust = True\n",
        "        break\n",
        "    # Play the dealer's turn\n",
        "    while calculate_score(dealer_hand) < 17 and not player_bust:\n",
        "      dealer_hand.append(deal_card())\n",
        "\n",
        "    # Print the dealer's hand and score\n",
        "    print(\"Dealer's hand:\", dealer_hand)\n",
        "    print(\"Dealer's score:\", calculate_score(dealer_hand))\n",
        "\n",
        "    # Determine the winner\n",
        "    if not (blackjack or dealer_bj or player_bust):\n",
        "      if calculate_score(player_hand) > calculate_score(dealer_hand) and calculate_score(player_hand) <= 21 or calculate_score(dealer_hand)>21:\n",
        "        print(\"Player wins!\")\n",
        "        player_stack+= 2*bet\n",
        "      elif calculate_score(dealer_hand) > calculate_score(player_hand) and calculate_score(dealer_hand) <= 21 or calculate_score(player_hand)>21:\n",
        "        print(\"Dealer wins!\")\n",
        "      else:\n",
        "        print(\"Tie!\")\n",
        "        player_stack+=bet\n",
        "\n",
        "\n",
        "# play_blackjack() "
      ]
    },
    {
      "cell_type": "code",
      "execution_count": 4,
      "metadata": {},
      "outputs": [
        {
          "name": "stdout",
          "output_type": "stream",
          "text": [
            "----------\n",
            "Bot stack: 1000\n",
            "Player's hand: [3, 5]\n",
            "Dealer's hand: 7\n",
            "Player's score: 8\n",
            "Dealer's hand: [7, 4, 11, 3, 10]\n",
            "Dealer's score: 25\n",
            "Player wins!\n",
            "----------\n",
            "Bot stack: 1010\n",
            "Player's hand: [8, 10]\n",
            "Dealer's hand: 10\n",
            "Player's score: 18\n",
            "Player's hand: [8, 10, 10]\n",
            "Player busts!\n",
            "Dealer's hand: [10, 2]\n",
            "Dealer's score: 12\n",
            "----------\n",
            "Bot stack: 1000\n",
            "Player's hand: [10, 9]\n",
            "Dealer's hand: 11\n",
            "Player's score: 19\n",
            "Dealer's blackjack!\n",
            "Dealer's hand: [11, 10]\n",
            "Dealer's score: 21\n",
            "----------\n",
            "Bot stack: 990\n",
            "Player's hand: [8, 4]\n",
            "Dealer's hand: 4\n",
            "Player's score: 12\n",
            "Player's hand: [8, 4, 8]\n",
            "Player's hand: [8, 4, 8, 10]\n",
            "Player busts!\n",
            "Dealer's hand: [4, 5]\n",
            "Dealer's score: 9\n",
            "----------\n",
            "Bot stack: 980\n",
            "Player's hand: [10, 11]\n",
            "Dealer's hand: 5\n",
            "Player's score: 21\n",
            "blackjack!\n",
            "Dealer's hand: [5, 7]\n",
            "Dealer's score: 12\n",
            "----------\n",
            "Bot stack: 995.0\n",
            "Deck is shuffled!\n",
            "Player's hand: [7, 10]\n",
            "Dealer's hand: 10\n",
            "Player's score: 17\n",
            "Dealer's hand: [10, 6, 11]\n",
            "Dealer's score: 17\n",
            "Tie!\n",
            "----------\n",
            "Bot stack: 995.0\n",
            "Player's hand: [10, 9]\n",
            "Dealer's hand: 3\n",
            "Player's score: 19\n",
            "Player's hand: [10, 9, 10]\n",
            "Player busts!\n",
            "Dealer's hand: [3, 10]\n",
            "Dealer's score: 13\n",
            "----------\n",
            "Bot stack: 985.0\n",
            "Player's hand: [10, 10]\n",
            "Dealer's hand: 8\n",
            "Player's score: 20\n",
            "Player's hand: [10, 10, 6]\n",
            "Player busts!\n",
            "Dealer's hand: [8, 4]\n",
            "Dealer's score: 12\n",
            "----------\n",
            "Bot stack: 975.0\n",
            "Player's hand: [7, 9]\n",
            "Dealer's hand: 3\n",
            "Player's score: 16\n",
            "Dealer's hand: [3, 9, 5]\n",
            "Dealer's score: 17\n",
            "Dealer wins!\n",
            "----------\n",
            "Bot stack: 965.0\n",
            "Player's hand: [2, 10]\n",
            "Dealer's hand: 6\n",
            "Player's score: 12\n",
            "Dealer's hand: [6, 8, 10]\n",
            "Dealer's score: 24\n",
            "Player wins!\n",
            "----------\n",
            "Bot stack: 975.0\n",
            "Deck is shuffled!\n",
            "Player's hand: [4, 4]\n",
            "Dealer's hand: 10\n",
            "Player's score: 8\n",
            "Dealer's hand: [10, 7]\n",
            "Dealer's score: 17\n",
            "Dealer wins!\n",
            "----------\n",
            "Bot stack: 965.0\n",
            "Player's hand: [9, 7]\n",
            "Dealer's hand: 10\n",
            "Player's score: 16\n",
            "Dealer's hand: [10, 3, 6]\n",
            "Dealer's score: 19\n",
            "Dealer wins!\n",
            "----------\n",
            "Bot stack: 955.0\n",
            "Player's hand: [11, 5]\n",
            "Dealer's hand: 11\n",
            "Player's score: 16\n",
            "Dealer's blackjack!\n",
            "Dealer's hand: [11, 10]\n",
            "Dealer's score: 21\n",
            "----------\n",
            "Bot stack: 945.0\n",
            "Player's hand: [2, 6]\n",
            "Dealer's hand: 4\n",
            "Player's score: 8\n"
          ]
        }
      ],
      "source": [
        "def refine_player(): #I think I should split this into two functions: one that calculates each round, the other that runs that and manages the stack\n",
        "  player_stack = 1000\n",
        "  bet = 0\n",
        "  stack_amount = []\n",
        "  # Play the player's turn\n",
        "  while True:\n",
        "    print(\"-\"*10)\n",
        "    stack_amount.append(player_stack)\n",
        "    blackjack = False\n",
        "    dealer_bj = False\n",
        "    player_bust = False\n",
        "    print(\"Bot stack: \" + str(player_stack))\n",
        "\n",
        "    bet = 10 #Might add in some bet variance with the bot in later devs\n",
        "    \n",
        "    player_stack -= bet\n",
        "    player_hand = [deal_card(), deal_card()]\n",
        "    dealer_hand = [deal_card(), deal_card()]\n",
        "    # Print the player's hand and score\n",
        "    print(\"Player's hand:\", player_hand)\n",
        "    print(\"Dealer's :\", dealer_hand[0])\n",
        "    print(\"Player's scorhande:\", calculate_score(player_hand))\n",
        "\n",
        "    if sum(player_hand) == 21 and sum(dealer_hand) < 21:\n",
        "      print(\"blackjack!\")\n",
        "      blackjack = True\n",
        "      player_stack += bet * 2.5\n",
        "    elif sum(player_hand) < 21 and sum(dealer_hand) == 21:\n",
        "      print(\"Dealer's blackjack!\")\n",
        "      dealer_bj = True\n",
        "\n",
        "\n",
        "    while not blackjack and not dealer_bj:\n",
        "      choice = input(\"hit or stand?\")\n",
        "      if choice.equals(\"h\"):\n",
        "        choice = True\n",
        "      else:\n",
        "        choice = False\n",
        "\n",
        "      # If the player hits, deal them another card\n",
        "      if choice:\n",
        "        player_hand.append(deal_card())\n",
        "        print(\"Player's hand:\", player_hand)\n",
        "\n",
        "      # If the player stands, break out of the loop\n",
        "      else:\n",
        "        break\n",
        "\n",
        "      # If the player busts, they lose\n",
        "      if calculate_score(player_hand) > 21:\n",
        "        # print(\"Player's hand:\", player_hand)\n",
        "        print(\"Player busts!\")\n",
        "        player_bust = True\n",
        "        break\n",
        "    # Play the dealer's turn\n",
        "    while calculate_score(dealer_hand) < 17 and not player_bust and not blackjack:\n",
        "      dealer_hand.append(deal_card())\n",
        "\n",
        "    # Print the dealer's hand and score\n",
        "    print(\"Dealer's hand:\", dealer_hand)\n",
        "    print(\"Dealer's score:\", calculate_score(dealer_hand))\n",
        "\n",
        "    # Determine the winner\n",
        "    if not (blackjack or dealer_bj or player_bust):\n",
        "      if calculate_score(player_hand) > calculate_score(dealer_hand) and calculate_score(player_hand) <= 21 or calculate_score(dealer_hand)>21:\n",
        "        print(\"Player wins!\")\n",
        "        player_stack+= 2*bet\n",
        "      elif calculate_score(dealer_hand) > calculate_score(player_hand) and calculate_score(dealer_hand) <= 21 or calculate_score(player_hand)>21:\n",
        "        print(\"Dealer wins!\")\n",
        "      else:\n",
        "        print(\"Tie!\")\n",
        "        player_stack+=bet\n",
        "refine_player()"
      ]
    },
    {
      "cell_type": "markdown",
      "metadata": {
        "id": "UChPa2mSWDb_"
      },
      "source": [
        "### Basic Strategy Computation\n"
      ]
    },
    {
      "cell_type": "code",
      "execution_count": null,
      "metadata": {
        "colab": {
          "base_uri": "https://localhost:8080/"
        },
        "id": "z9PMTyHoN7MA",
        "outputId": "ed6815f1-e591-4933-be78-2b5ded99a4a2"
      },
      "outputs": [
        {
          "data": {
            "text/plain": [
              "[[2, 3, 4, 5, 6, 7, 8, 9, 10, 10, 10, 10, 11],\n",
              " [2, 3, 4, 5, 6, 7, 8, 9, 10, 10, 10, 10, 11],\n",
              " [2, 3, 4, 5, 6, 7, 8, 9, 10, 10, 10, 10, 11],\n",
              " [2, 3, 4, 5, 6, 7, 8, 9, 10, 10, 10, 10, 11]]"
            ]
          },
          "execution_count": 11,
          "metadata": {},
          "output_type": "execute_result"
        }
      ],
      "source": [
        "deck"
      ]
    },
    {
      "cell_type": "code",
      "execution_count": null,
      "metadata": {
        "id": "OSp2ux7Vou6T"
      },
      "outputs": [
        {
          "data": {
            "text/plain": [
              "[array([0.141     , 0.13166667, 0.12966667, 0.11966667, 0.12366667,\n",
              "        0.35433333]),\n",
              " array([0.12733333, 0.11133333, 0.13266667, 0.124     , 0.124     ,\n",
              "        0.38066667]),\n",
              " array([0.12733333, 0.134     , 0.133     , 0.11266667, 0.11833333,\n",
              "        0.37466667]),\n",
              " array([0.12333333, 0.11233333, 0.12066667, 0.11033333, 0.10833333,\n",
              "        0.425     ]),\n",
              " array([0.173     , 0.10133333, 0.10533333, 0.10033333, 0.10566667,\n",
              "        0.41433333]),\n",
              " array([0.35566667, 0.139     , 0.08033333, 0.07533333, 0.08333333,\n",
              "        0.26633333]),\n",
              " array([0.11266667, 0.36566667, 0.13333333, 0.067     , 0.07433333,\n",
              "        0.247     ]),\n",
              " array([0.11033333, 0.12433333, 0.36433333, 0.11133333, 0.05833333,\n",
              "        0.23133333]),\n",
              " array([0.10966667, 0.10633333, 0.102     , 0.34366667, 0.11633333,\n",
              "        0.222     ]),\n",
              " array([0.134     , 0.12733333, 0.13966667, 0.116     , 0.36966667,\n",
              "        0.11333333])]"
            ]
          },
          "execution_count": 12,
          "metadata": {},
          "output_type": "execute_result"
        }
      ],
      "source": [
        "def deal_card(deck1):\n",
        "  deck = copy.deepcopy(deck1)\n",
        "  while True:\n",
        "    int1 = random.randint(0,3)\n",
        "    if len(deck[int1]) > 0:\n",
        "      return (deck[int1].pop(random.randint(0,len(deck[int1])-1)), deck)\n",
        "## Dealer's distributions\n",
        "def compute_dealer(deck, dealer_hand,trials):\n",
        "  \"\"\"\n",
        "  deck: nested arrays of all the cards still in the deck\n",
        "  dealer_hand: array of cards that the dealer has face-up right now\n",
        "  @ return: array that holds the probability of stopping at each possible sum\n",
        "  \"\"\"\n",
        "  prob_dist = list(np.zeros(6))\n",
        "  deck1 = copy.deepcopy(deck)\n",
        "\n",
        "  for i in range(trials):\n",
        "    dealer_hand1 = copy.deepcopy(dealer_hand)\n",
        "    deck=copy.deepcopy(deck1)\n",
        "    while calculate_score(dealer_hand1)<17:\n",
        "      value = deal_card(deck)\n",
        "      dealer_hand1.append(value[0])\n",
        "      deck = value[1]\n",
        "      # print(deck)\n",
        "    if (calculate_score(dealer_hand1)<=21):  \n",
        "      \n",
        "      prob_dist[calculate_score(dealer_hand1)-17]+=1\n",
        "    else:\n",
        "      prob_dist[-1]+=1\n",
        "  prob_dist = np.asarray(prob_dist)/np.sum(prob_dist)\n",
        "  return prob_dist\n",
        "\n",
        "dealer_matrix = []\n",
        "for i in range(2,12):\n",
        "  dealer_matrix.append(compute_dealer(deck, [i],3000))\n",
        "# list(range(2,12))\n",
        "dealer_matrix"
      ]
    },
    {
      "cell_type": "code",
      "execution_count": null,
      "metadata": {
        "colab": {
          "base_uri": "https://localhost:8080/"
        },
        "id": "vK_mgLv9I2sf",
        "outputId": "84a3c3b6-748d-4675-80ed-62aa1f4d661c"
      },
      "outputs": [
        {
          "data": {
            "text/plain": [
              "[array([0.141     , 0.13166667, 0.12966667, 0.11966667, 0.12366667,\n",
              "        0.35433333]),\n",
              " array([0.12733333, 0.11133333, 0.13266667, 0.124     , 0.124     ,\n",
              "        0.38066667]),\n",
              " array([0.12733333, 0.134     , 0.133     , 0.11266667, 0.11833333,\n",
              "        0.37466667]),\n",
              " array([0.12333333, 0.11233333, 0.12066667, 0.11033333, 0.10833333,\n",
              "        0.425     ]),\n",
              " array([0.173     , 0.10133333, 0.10533333, 0.10033333, 0.10566667,\n",
              "        0.41433333]),\n",
              " array([0.35566667, 0.139     , 0.08033333, 0.07533333, 0.08333333,\n",
              "        0.26633333]),\n",
              " array([0.11266667, 0.36566667, 0.13333333, 0.067     , 0.07433333,\n",
              "        0.247     ]),\n",
              " array([0.11033333, 0.12433333, 0.36433333, 0.11133333, 0.05833333,\n",
              "        0.23133333]),\n",
              " array([0.10966667, 0.10633333, 0.102     , 0.34366667, 0.11633333,\n",
              "        0.222     ]),\n",
              " array([0.134     , 0.12733333, 0.13966667, 0.116     , 0.36966667,\n",
              "        0.11333333])]"
            ]
          },
          "execution_count": 13,
          "metadata": {},
          "output_type": "execute_result"
        }
      ],
      "source": [
        "dealer_matrix # each array within here represents one of the dealer's hands from 2-A, and each entry within this matrix represents the probability of ending up at a sum of 17, 18, 19, 20, 21, and busting. "
      ]
    },
    {
      "cell_type": "code",
      "execution_count": null,
      "metadata": {
        "colab": {
          "base_uri": "https://localhost:8080/"
        },
        "id": "iyYn4ZLvSnPR",
        "outputId": "709a77b5-5182-4f88-fd83-0d1ab01f5a1a"
      },
      "outputs": [
        {
          "data": {
            "text/plain": [
              "[0.35433333333333333,\n",
              " 0.38066666666666665,\n",
              " 0.37466666666666665,\n",
              " 0.425,\n",
              " 0.41433333333333333,\n",
              " 0.2663333333333333,\n",
              " 0.247,\n",
              " 0.23133333333333334,\n",
              " 0.222,\n",
              " 0.11333333333333333]"
            ]
          },
          "execution_count": 14,
          "metadata": {},
          "output_type": "execute_result"
        }
      ],
      "source": [
        "busting_freq = list(np.zeros(10))\n",
        "for i in range(len(dealer_matrix)):\n",
        "  for j in range(5,len(dealer_matrix[i])):\n",
        "    busting_freq[i]+=dealer_matrix[i][j]\n",
        "busting_freq"
      ]
    },
    {
      "cell_type": "code",
      "execution_count": null,
      "metadata": {
        "colab": {
          "base_uri": "https://localhost:8080/",
          "height": 798
        },
        "id": "34BwzNLGUL3u",
        "outputId": "a70ae0a4-ebea-4e81-acf9-20e0bb509242"
      },
      "outputs": [
        {
          "data": {
            "text/html": [
              "<div>\n",
              "<style scoped>\n",
              "    .dataframe tbody tr th:only-of-type {\n",
              "        vertical-align: middle;\n",
              "    }\n",
              "\n",
              "    .dataframe tbody tr th {\n",
              "        vertical-align: top;\n",
              "    }\n",
              "\n",
              "    .dataframe thead th {\n",
              "        text-align: right;\n",
              "    }\n",
              "</style>\n",
              "<table border=\"1\" class=\"dataframe\">\n",
              "  <thead>\n",
              "    <tr style=\"text-align: right;\">\n",
              "      <th></th>\n",
              "      <th>0</th>\n",
              "    </tr>\n",
              "  </thead>\n",
              "  <tbody>\n",
              "    <tr>\n",
              "      <th>2</th>\n",
              "      <td>0.354333</td>\n",
              "    </tr>\n",
              "    <tr>\n",
              "      <th>3</th>\n",
              "      <td>0.380667</td>\n",
              "    </tr>\n",
              "    <tr>\n",
              "      <th>4</th>\n",
              "      <td>0.374667</td>\n",
              "    </tr>\n",
              "    <tr>\n",
              "      <th>5</th>\n",
              "      <td>0.425000</td>\n",
              "    </tr>\n",
              "    <tr>\n",
              "      <th>6</th>\n",
              "      <td>0.414333</td>\n",
              "    </tr>\n",
              "    <tr>\n",
              "      <th>7</th>\n",
              "      <td>0.266333</td>\n",
              "    </tr>\n",
              "    <tr>\n",
              "      <th>8</th>\n",
              "      <td>0.247000</td>\n",
              "    </tr>\n",
              "    <tr>\n",
              "      <th>9</th>\n",
              "      <td>0.231333</td>\n",
              "    </tr>\n",
              "    <tr>\n",
              "      <th>10</th>\n",
              "      <td>0.222000</td>\n",
              "    </tr>\n",
              "    <tr>\n",
              "      <th>11</th>\n",
              "      <td>0.113333</td>\n",
              "    </tr>\n",
              "  </tbody>\n",
              "</table>\n",
              "</div>"
            ],
            "text/plain": [
              "           0\n",
              "2   0.354333\n",
              "3   0.380667\n",
              "4   0.374667\n",
              "5   0.425000\n",
              "6   0.414333\n",
              "7   0.266333\n",
              "8   0.247000\n",
              "9   0.231333\n",
              "10  0.222000\n",
              "11  0.113333"
            ]
          },
          "metadata": {},
          "output_type": "display_data"
        },
        {
          "data": {
            "image/png": "[encoded data removed]",
            "text/plain": [
              "<Figure size 640x480 with 1 Axes>"
            ]
          },
          "metadata": {},
          "output_type": "display_data"
        }
      ],
      "source": [
        "plt.scatter(range(2,12),busting_freq)\n",
        "plt.title(\"Busting Frequencies for dealer depending on hand\")\n",
        "display(pd.DataFrame(busting_freq,range(2,12)))\n",
        "plt.show()\n"
      ]
    },
    {
      "cell_type": "markdown",
      "metadata": {},
      "source": [
        "## Computing optimal moves"
      ]
    },
    {
      "cell_type": "code",
      "execution_count": null,
      "metadata": {},
      "outputs": [
        {
          "data": {
            "text/plain": [
              "[]"
            ]
          },
          "execution_count": 16,
          "metadata": {},
          "output_type": "execute_result"
        }
      ],
      "source": [
        "list(range(0,-3))"
      ]
    },
    {
      "cell_type": "code",
      "execution_count": null,
      "metadata": {},
      "outputs": [
        {
          "data": {
            "text/plain": [
              "0.8303333333333334"
            ]
          },
          "execution_count": 21,
          "metadata": {},
          "output_type": "execute_result"
        }
      ],
      "source": [
        "def stand_prob(player_hand, dealer_hand, dealer_matrix):\n",
        "    \"\"\"\"\n",
        "    Computes the probability of winning if the player stands\n",
        "    \"\"\"\n",
        "    dealer_sum = calculate_score(dealer_hand)\n",
        "    W_prob = 0\n",
        "    if (calculate_score(player_hand)<=21):\n",
        "        index = calculate_score(player_hand)-17\n",
        "        for i in range(0,index):\n",
        "            W_prob+=dealer_matrix[dealer_hand[0]-2][i] ## Summing up all the probs of dealer getting a lower hand\n",
        "        W_prob+=dealer_matrix[dealer_hand[0]-2][-1] ## Adding on busting frequency for dealer\n",
        "    return W_prob\n",
        "stand_prob([10,10],[9],dealer_matrix) ## Testing this out here"
      ]
    },
    {
      "cell_type": "markdown",
      "metadata": {},
      "source": [
        "### Hit Probability Algorithm Outline\n",
        "\n",
        "Obviously we should hit anything at 11 or below. But what about 12-20? (we're being a bit more liberal about the upper end). \n",
        "\n",
        "Here's what I'm thinking: at the higher ends, one only needs to compare $P(\\text{hitting and standing})$ against $P(\\text{standing})$. At the cutoff, the sum $n$ where holding a sum of $n$ or below necessitates hitting as an optimal strategy will have \n",
        "\n",
        "$$P(\\text{hitting and standing}) > P(\\text{standing})$$\n",
        "\n",
        "But note that this $P(\\text{hitting and standing})$ is the only probability we need to compute for any current player hand sum. Clearly, this probability will be greater the lower our sum is! (We don't even need to find the exact probability of winning by hitting)\n"
      ]
    },
    {
      "cell_type": "code",
      "execution_count": null,
      "metadata": {},
      "outputs": [
        {
          "name": "stdout",
          "output_type": "stream",
          "text": [
            "0.3271096000000075\n",
            "0.35433333333333333\n"
          ]
        },
        {
          "data": {
            "text/plain": [
              "False"
            ]
          },
          "execution_count": 18,
          "metadata": {},
          "output_type": "execute_result"
        }
      ],
      "source": [
        "def should_hit(player_hand, dealer_hand, dealer_matrix, deck):\n",
        "    \"\"\"\"\n",
        "    @return: Does hitting and standing have a better probability of winning than just standing?\n",
        "    \"\"\"\n",
        "    def hit_and_stand_win_prob():\n",
        "        \"\"\"\n",
        "        @return: Probability of winning if the current player hand hits and stands against dealer hand\n",
        "        \"\"\"\n",
        "        win_prob = 0\n",
        "        trials = 10000\n",
        "        for j in range(trials):\n",
        "            exp_deck = copy.deepcopy(deck)     \n",
        "            play_hand_copy = copy.deepcopy(player_hand) #resetting player hand after each test\n",
        "            value = deal_card(exp_deck) # note that we don't change the deck\n",
        "            play_hand_copy.append(value[0]) #adding in the card to player hand\n",
        "            win_prob += stand_prob(play_hand_copy,dealer_hand,dealer_matrix)/trials\n",
        "        return win_prob      \n",
        "    print(hit_and_stand_win_prob())\n",
        "    print(stand_prob(player_hand,dealer_hand,dealer_matrix))\n",
        "    return hit_and_stand_win_prob()>stand_prob(player_hand,dealer_hand,dealer_matrix)              \n",
        "should_hit([7,6],[2],dealer_matrix,deck) \n"
      ]
    },
    {
      "cell_type": "markdown",
      "metadata": {},
      "source": [
        "### Putting it All Together\n",
        "\n",
        "We just need a space for the bot to place bets and play!"
      ]
    },
    {
      "cell_type": "code",
      "execution_count": null,
      "metadata": {},
      "outputs": [],
      "source": [
        "def bot_backend(player_hand, dealer_hand, deck):\n",
        "    \"\"\"\"\n",
        "    Computes and updates all variables to determine if bot should hit or stand\n",
        "    @returns bot's decision to hit or stand\n",
        "    \"\"\"\n",
        "    new_dealer_matrix = compute_dealer(deck, dealer_hand,3000)\n",
        "    return should_hit(player_hand, dealer_hand, new_dealer_matrix, deck)\n",
        "## Should add another one where the bot determines if the deck favors or doesn't favor the bot over the dealer (through trials?)"
      ]
    },
    {
      "cell_type": "code",
      "execution_count": null,
      "metadata": {},
      "outputs": [],
      "source": [
        "def play_blackjack_bot(): #I think I should split this into two functions: one that calculates each round, the other that runs that and manages the stack\n",
        "  player_stack = 1000\n",
        "  bet = 0\n",
        "  stack_amount = []\n",
        "  # Play the player's turn\n",
        "  while True:\n",
        "    stack_amount.append(player_stack)\n",
        "    blackjack = False\n",
        "    dealer_bj = False\n",
        "    player_bust = False\n",
        "    print(\"Bot stack: \" + str(player_stack))\n",
        "\n",
        "    bet = 10 #Might add in some bet variance with the bot in later devs\n",
        "    \n",
        "    player_stack -= bet\n",
        "    player_hand = [deal_card(), deal_card()]\n",
        "    dealer_hand = [deal_card(), deal_card()]\n",
        "    # Print the player's hand and score\n",
        "    print(\"Player's hand:\", player_hand)\n",
        "    print(\"Dealer's hand:\", dealer_hand[0])\n",
        "    print(\"Player's score:\", calculate_score(player_hand))\n",
        "\n",
        "    if sum(player_hand) == 21 and sum(dealer_hand) < 21:\n",
        "      print(\"blackjack!\")\n",
        "      blackjack = True\n",
        "      player_stack += bet * 2.5\n",
        "    elif sum(player_hand) < 21 and sum(dealer_hand) == 21:\n",
        "      print(\"Dealer's blackjack!\")\n",
        "      dealer_bj = True\n",
        "\n",
        "\n",
        "    while not blackjack and not dealer_bj:\n",
        "      choice = should_hit(player_hand, dealer_hand, deck)\n",
        "\n",
        "      # If the player hits, deal them another card\n",
        "      if choice:\n",
        "        player_hand.append(deal_card())\n",
        "        print(\"Player's hand:\", player_hand)\n",
        "\n",
        "      # If the player stands, break out of the loop\n",
        "      else:\n",
        "        break\n",
        "\n",
        "      # If the player busts, they lose\n",
        "      if calculate_score(player_hand) > 21:\n",
        "        # print(\"Player's hand:\", player_hand)\n",
        "        print(\"Player busts!\")\n",
        "        player_bust = True\n",
        "        break\n",
        "    # Play the dealer's turn\n",
        "    while calculate_score(dealer_hand) < 17 and not player_bust and not blackjack:\n",
        "      dealer_hand.append(deal_card())\n",
        "\n",
        "    # Print the dealer's hand and score\n",
        "    print(\"Dealer's hand:\", dealer_hand)\n",
        "    print(\"Dealer's score:\", calculate_score(dealer_hand))\n",
        "\n",
        "    # Determine the winner\n",
        "    if not (blackjack or dealer_bj or player_bust):\n",
        "      if calculate_score(player_hand) > calculate_score(dealer_hand) and calculate_score(player_hand) <= 21 or calculate_score(dealer_hand)>21:\n",
        "        print(\"Player wins!\")\n",
        "        player_stack+= 2*bet\n",
        "      elif calculate_score(dealer_hand) > calculate_score(player_hand) and calculate_score(dealer_hand) <= 21 or calculate_score(player_hand)>21:\n",
        "        print(\"Dealer wins!\")\n",
        "      else:\n",
        "        print(\"Tie!\")\n",
        "        player_stack+=bet"
      ]
    },
    {
      "cell_type": "markdown",
      "metadata": {
        "id": "Bav2WOIwWGkG"
      },
      "source": [
        "## Interface for bots & algorithms\n",
        "\n",
        "Here, we'll try to extend this by examining different kinds of card-counting strategies and see how they fare over the long term, with base bet units of 1 to be simulated ____ number of times (fill this in later). Here are some betting bot strategies here:\n",
        "\n",
        "1. Martingale: doubling bet after each loss, return to initial bet after a win\n",
        "\n",
        "2. Hi-Lo: Most popular one, with 2,3,4,5,6 being +1, 7-9 being +0, and 10-A being -1 (more positive counts = better chance of winning). Bet will be (true count - 1) * (base betting unit)\n",
        "\n",
        "3. Hi-Opt:\n",
        "\n",
        "  1.   4 and 5 | +2\n",
        "  2.   2, 3. 6. and 7 | +1\n",
        "  2.   8 and 9 | +0\n",
        "  2.   10 to K | -2\n",
        "\n",
        "4. Constant bets, basic strategy"
      ]
    }
  ],
  "metadata": {
    "colab": {
      "provenance": []
    },
    "kernelspec": {
      "display_name": "Python 3",
      "name": "python3"
    },
    "language_info": {
      "codemirror_mode": {
        "name": "ipython",
        "version": 3
      },
      "file_extension": ".py",
      "mimetype": "text/x-python",
      "name": "python",
      "nbconvert_exporter": "python",
      "pygments_lexer": "ipython3",
      "version": "3.11.5"
    }
  },
  "nbformat": 4,
  "nbformat_minor": 0
}
